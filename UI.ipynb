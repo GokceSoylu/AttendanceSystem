{
 "cells": [
  {
   "cell_type": "markdown",
   "metadata": {},
   "source": [
    "# ARAYüZ OLUŞTURMA"
   ]
  },
  {
   "cell_type": "code",
   "execution_count": 1,
   "metadata": {},
   "outputs": [
    {
     "name": "stdout",
     "output_type": "stream",
     "text": [
      "Defaulting to user installation because normal site-packages is not writeable\n",
      "Collecting flask\n",
      "  Downloading flask-3.1.0-py3-none-any.whl.metadata (2.7 kB)\n",
      "Requirement already satisfied: Werkzeug>=3.1 in /Users/gokcesoylu/Library/Python/3.9/lib/python/site-packages (from flask) (3.1.3)\n",
      "Requirement already satisfied: Jinja2>=3.1.2 in /Users/gokcesoylu/Library/Python/3.9/lib/python/site-packages (from flask) (3.1.4)\n",
      "Collecting itsdangerous>=2.2 (from flask)\n",
      "  Downloading itsdangerous-2.2.0-py3-none-any.whl.metadata (1.9 kB)\n",
      "Requirement already satisfied: click>=8.1.3 in /Users/gokcesoylu/Library/Python/3.9/lib/python/site-packages (from flask) (8.1.7)\n",
      "Requirement already satisfied: blinker>=1.9 in /Users/gokcesoylu/Library/Python/3.9/lib/python/site-packages (from flask) (1.9.0)\n",
      "Requirement already satisfied: importlib-metadata>=3.6 in /Users/gokcesoylu/Library/Python/3.9/lib/python/site-packages (from flask) (8.5.0)\n",
      "Requirement already satisfied: zipp>=3.20 in /Users/gokcesoylu/Library/Python/3.9/lib/python/site-packages (from importlib-metadata>=3.6->flask) (3.20.2)\n",
      "Requirement already satisfied: MarkupSafe>=2.0 in /Users/gokcesoylu/Library/Python/3.9/lib/python/site-packages (from Jinja2>=3.1.2->flask) (3.0.1)\n",
      "Downloading flask-3.1.0-py3-none-any.whl (102 kB)\n",
      "Downloading itsdangerous-2.2.0-py3-none-any.whl (16 kB)\n",
      "Installing collected packages: itsdangerous, flask\n",
      "Successfully installed flask-3.1.0 itsdangerous-2.2.0\n",
      "\n",
      "\u001b[1m[\u001b[0m\u001b[34;49mnotice\u001b[0m\u001b[1;39;49m]\u001b[0m\u001b[39;49m A new release of pip is available: \u001b[0m\u001b[31;49m24.2\u001b[0m\u001b[39;49m -> \u001b[0m\u001b[32;49m24.3.1\u001b[0m\n",
      "\u001b[1m[\u001b[0m\u001b[34;49mnotice\u001b[0m\u001b[1;39;49m]\u001b[0m\u001b[39;49m To update, run: \u001b[0m\u001b[32;49m/Library/Developer/CommandLineTools/usr/bin/python3 -m pip install --upgrade pip\u001b[0m\n",
      "Note: you may need to restart the kernel to use updated packages.\n"
     ]
    }
   ],
   "source": [
    "pip install flask\n"
   ]
  },
  {
   "cell_type": "code",
   "execution_count": 2,
   "metadata": {},
   "outputs": [
    {
     "name": "stdout",
     "output_type": "stream",
     "text": [
      "Defaulting to user installation because normal site-packages is not writeable\n",
      "Collecting flask-wtf\n",
      "  Downloading flask_wtf-1.2.2-py3-none-any.whl.metadata (3.4 kB)\n",
      "Requirement already satisfied: flask in /Users/gokcesoylu/Library/Python/3.9/lib/python/site-packages (from flask-wtf) (3.1.0)\n",
      "Requirement already satisfied: itsdangerous in /Users/gokcesoylu/Library/Python/3.9/lib/python/site-packages (from flask-wtf) (2.2.0)\n",
      "Collecting wtforms (from flask-wtf)\n",
      "  Downloading wtforms-3.2.1-py3-none-any.whl.metadata (5.3 kB)\n",
      "Requirement already satisfied: Werkzeug>=3.1 in /Users/gokcesoylu/Library/Python/3.9/lib/python/site-packages (from flask->flask-wtf) (3.1.3)\n",
      "Requirement already satisfied: Jinja2>=3.1.2 in /Users/gokcesoylu/Library/Python/3.9/lib/python/site-packages (from flask->flask-wtf) (3.1.4)\n",
      "Requirement already satisfied: click>=8.1.3 in /Users/gokcesoylu/Library/Python/3.9/lib/python/site-packages (from flask->flask-wtf) (8.1.7)\n",
      "Requirement already satisfied: blinker>=1.9 in /Users/gokcesoylu/Library/Python/3.9/lib/python/site-packages (from flask->flask-wtf) (1.9.0)\n",
      "Requirement already satisfied: importlib-metadata>=3.6 in /Users/gokcesoylu/Library/Python/3.9/lib/python/site-packages (from flask->flask-wtf) (8.5.0)\n",
      "Requirement already satisfied: markupsafe in /Users/gokcesoylu/Library/Python/3.9/lib/python/site-packages (from wtforms->flask-wtf) (3.0.1)\n",
      "Requirement already satisfied: zipp>=3.20 in /Users/gokcesoylu/Library/Python/3.9/lib/python/site-packages (from importlib-metadata>=3.6->flask->flask-wtf) (3.20.2)\n",
      "Downloading flask_wtf-1.2.2-py3-none-any.whl (12 kB)\n",
      "Downloading wtforms-3.2.1-py3-none-any.whl (152 kB)\n",
      "Installing collected packages: wtforms, flask-wtf\n",
      "Successfully installed flask-wtf-1.2.2 wtforms-3.2.1\n",
      "\n",
      "\u001b[1m[\u001b[0m\u001b[34;49mnotice\u001b[0m\u001b[1;39;49m]\u001b[0m\u001b[39;49m A new release of pip is available: \u001b[0m\u001b[31;49m24.2\u001b[0m\u001b[39;49m -> \u001b[0m\u001b[32;49m24.3.1\u001b[0m\n",
      "\u001b[1m[\u001b[0m\u001b[34;49mnotice\u001b[0m\u001b[1;39;49m]\u001b[0m\u001b[39;49m To update, run: \u001b[0m\u001b[32;49m/Library/Developer/CommandLineTools/usr/bin/python3 -m pip install --upgrade pip\u001b[0m\n",
      "Note: you may need to restart the kernel to use updated packages.\n"
     ]
    }
   ],
   "source": [
    "pip install flask-wtf\n"
   ]
  },
  {
   "cell_type": "code",
   "execution_count": 3,
   "metadata": {},
   "outputs": [
    {
     "name": "stdout",
     "output_type": "stream",
     "text": [
      "Defaulting to user installation because normal site-packages is not writeable\n",
      "Requirement already satisfied: face_recognition in /Users/gokcesoylu/Library/Python/3.9/lib/python/site-packages (1.3.0)\n",
      "Collecting opencv-python-headless\n",
      "  Downloading opencv_python_headless-4.10.0.84-cp37-abi3-macosx_11_0_arm64.whl.metadata (20 kB)\n",
      "Requirement already satisfied: face-recognition-models>=0.3.0 in /Users/gokcesoylu/Library/Python/3.9/lib/python/site-packages (from face_recognition) (0.3.0)\n",
      "Requirement already satisfied: Click>=6.0 in /Users/gokcesoylu/Library/Python/3.9/lib/python/site-packages (from face_recognition) (8.1.7)\n",
      "Requirement already satisfied: dlib>=19.7 in /Users/gokcesoylu/Library/Python/3.9/lib/python/site-packages (from face_recognition) (19.24.6)\n",
      "Requirement already satisfied: numpy in /Users/gokcesoylu/Library/Python/3.9/lib/python/site-packages (from face_recognition) (2.0.2)\n",
      "Requirement already satisfied: Pillow in /Users/gokcesoylu/Library/Python/3.9/lib/python/site-packages (from face_recognition) (11.0.0)\n",
      "Downloading opencv_python_headless-4.10.0.84-cp37-abi3-macosx_11_0_arm64.whl (54.8 MB)\n",
      "\u001b[2K   \u001b[90m━━━━━━━━━━━━━━━━━━━━━━━━━━━━━━━━━━━━━━━━\u001b[0m \u001b[32m54.8/54.8 MB\u001b[0m \u001b[31m1.6 MB/s\u001b[0m eta \u001b[36m0:00:00\u001b[0m00:01\u001b[0m00:02\u001b[0m0m\n",
      "\u001b[?25hInstalling collected packages: opencv-python-headless\n",
      "Successfully installed opencv-python-headless-4.10.0.84\n",
      "\n",
      "\u001b[1m[\u001b[0m\u001b[34;49mnotice\u001b[0m\u001b[1;39;49m]\u001b[0m\u001b[39;49m A new release of pip is available: \u001b[0m\u001b[31;49m24.2\u001b[0m\u001b[39;49m -> \u001b[0m\u001b[32;49m24.3.1\u001b[0m\n",
      "\u001b[1m[\u001b[0m\u001b[34;49mnotice\u001b[0m\u001b[1;39;49m]\u001b[0m\u001b[39;49m To update, run: \u001b[0m\u001b[32;49m/Library/Developer/CommandLineTools/usr/bin/python3 -m pip install --upgrade pip\u001b[0m\n",
      "Note: you may need to restart the kernel to use updated packages.\n"
     ]
    }
   ],
   "source": [
    "pip install face_recognition opencv-python-headless\n"
   ]
  },
  {
   "cell_type": "code",
   "execution_count": 4,
   "metadata": {},
   "outputs": [
    {
     "name": "stdout",
     "output_type": "stream",
     "text": [
      "Defaulting to user installation because normal site-packages is not writeable\n",
      "Requirement already satisfied: pillow in /Users/gokcesoylu/Library/Python/3.9/lib/python/site-packages (11.0.0)\n",
      "\n",
      "\u001b[1m[\u001b[0m\u001b[34;49mnotice\u001b[0m\u001b[1;39;49m]\u001b[0m\u001b[39;49m A new release of pip is available: \u001b[0m\u001b[31;49m24.2\u001b[0m\u001b[39;49m -> \u001b[0m\u001b[32;49m24.3.1\u001b[0m\n",
      "\u001b[1m[\u001b[0m\u001b[34;49mnotice\u001b[0m\u001b[1;39;49m]\u001b[0m\u001b[39;49m To update, run: \u001b[0m\u001b[32;49m/Library/Developer/CommandLineTools/usr/bin/python3 -m pip install --upgrade pip\u001b[0m\n",
      "Note: you may need to restart the kernel to use updated packages.\n"
     ]
    }
   ],
   "source": [
    "pip install pillow\n"
   ]
  },
  {
   "cell_type": "code",
   "execution_count": null,
   "metadata": {},
   "outputs": [],
   "source": []
  }
 ],
 "metadata": {
  "kernelspec": {
   "display_name": "Python 3",
   "language": "python",
   "name": "python3"
  },
  "language_info": {
   "codemirror_mode": {
    "name": "ipython",
    "version": 3
   },
   "file_extension": ".py",
   "mimetype": "text/x-python",
   "name": "python",
   "nbconvert_exporter": "python",
   "pygments_lexer": "ipython3",
   "version": "3.9.6"
  }
 },
 "nbformat": 4,
 "nbformat_minor": 2
}
